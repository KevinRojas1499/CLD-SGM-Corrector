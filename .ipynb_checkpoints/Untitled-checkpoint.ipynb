{
 "cells": [
  {
   "cell_type": "code",
   "execution_count": null,
   "id": "e3ba78e6",
   "metadata": {},
   "outputs": [],
   "source": [
    "import gmm_lib"
   ]
  },
  {
   "cell_type": "code",
   "execution_count": null,
   "id": "75cfe270",
   "metadata": {},
   "outputs": [],
   "source": [
    "c = torch.tensor([1/4,1/4,1/4,1/4])\n",
    "means = torch.tensor([[-20,-20],[-20,20],[20,20],[20,-20]]).to(torch.double)\n",
    "variances = torch.tensor([[[1,0],[0,1]], [[1,0],[0,1]], [[1,0],[0,1]], [[1,0],[0,1]]]).to(torch.double)\n",
    "\n",
    "\n",
    "num_samples = 1000\n",
    "samples = generate_samples.get_samples_from_mixed_gaussian(c,means,variances,1000)"
   ]
  },
  {
   "cell_type": "code",
   "execution_count": null,
   "id": "9d72e9aa",
   "metadata": {},
   "outputs": [],
   "source": []
  }
 ],
 "metadata": {
  "kernelspec": {
   "display_name": "Python 3 (ipykernel)",
   "language": "python",
   "name": "python3"
  },
  "language_info": {
   "codemirror_mode": {
    "name": "ipython",
    "version": 3
   },
   "file_extension": ".py",
   "mimetype": "text/x-python",
   "name": "python",
   "nbconvert_exporter": "python",
   "pygments_lexer": "ipython3",
   "version": "3.9.13"
  }
 },
 "nbformat": 4,
 "nbformat_minor": 5
}
